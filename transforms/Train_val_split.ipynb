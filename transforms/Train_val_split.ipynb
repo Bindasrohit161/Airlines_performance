{
 "cells": [
  {
   "cell_type": "code",
   "execution_count": 1,
   "id": "400c8c3f-9b4e-486c-9220-8ba407c65695",
   "metadata": {},
   "outputs": [
    {
     "name": "stdout",
     "output_type": "stream",
     "text": [
      "Requirement already satisfied: scikit-learn in /opt/conda/lib/python3.10/site-packages (1.2.0)\n",
      "Requirement already satisfied: joblib>=1.1.1 in /opt/conda/lib/python3.10/site-packages (from scikit-learn) (1.2.0)\n",
      "Requirement already satisfied: scipy>=1.3.2 in /opt/conda/lib/python3.10/site-packages (from scikit-learn) (1.9.3)\n",
      "Requirement already satisfied: numpy>=1.17.3 in /opt/conda/lib/python3.10/site-packages (from scikit-learn) (1.23.5)\n",
      "Requirement already satisfied: threadpoolctl>=2.0.0 in /opt/conda/lib/python3.10/site-packages (from scikit-learn) (3.1.0)\n"
     ]
    }
   ],
   "source": [
    "import sys\n",
    "# sys.path.append('/Users/bernardoloureiro/template-lib')\n",
    "\n",
    "from utils.notebookhelpers.helpers import Helpers\n",
    "from utils.dtos.templateOutputCollection import TemplateOutputCollection\n",
    "from utils.dtos.variable import Metadata\n",
    "from utils.dtos.templateOutput import TemplateOutput\n",
    "from utils.dtos.templateOutput import OutputType\n",
    "from utils.dtos.templateOutput import ChartType\n",
    "import logging\n",
    "import os\n",
    "from dateutil import parser\n",
    "logging.basicConfig(format='%(levelname)s:%(message)s', level=logging.INFO)\n",
    "!pip install scikit-learn\n",
    "# !pip install shapely\n",
    "# !pip install shap-hypetune\n",
    "# !pip install xgboost\n",
    "import pandas as pd\n",
    "from sklearn.model_selection import train_test_split\n",
    "from sklearn.ensemble import RandomForestClassifier,GradientBoostingClassifier\n",
    "from sklearn.metrics import classification_report, confusion_matrix,precision_score\n",
    "from sklearn.preprocessing import StandardScaler\n",
    "# import shap\n",
    "from shaphypetune import BoostSearch, BoostBoruta, BoostRFE, BoostRFA\n",
    "from sklearn.metrics import roc_auc_score\n",
    "from scipy import stats\n",
    "from xgboost import XGBClassifier\n",
    "# from sklearn.svm import SVC\n",
    "from sklearn.model_selection import GridSearchCV\n",
    "import pickle\n",
    "from sklearn.preprocessing import StandardScaler"
   ]
  },
  {
   "cell_type": "code",
   "execution_count": 2,
   "id": "1a20074c-c1b5-4382-8ca2-45bfb304b4dd",
   "metadata": {},
   "outputs": [],
   "source": [
    "#Getting the context\n",
    "contextId = 'Airline_performance'\n",
    "context = Helpers.getOrCreateContext(contextId=contextId, localVars=locals())\n",
    "\n",
    "\n",
    "inputDatasetParameter = Helpers.get_or_create_input_dataset(\n",
    "    name=\"inputDataset\",\n",
    "    metadata=Metadata(input_name='Input Dataset', is_required=True, tooltip='Dataset to apply the transformation'),\n",
    "    local_context=locals())\n",
    "# inputDataset = Helpers.get_or_create_input_var(\n",
    "#     name=\"inputDataset\",\n",
    "#     metadata=Metadata(input_name=\"Cleaned Dataset\", is_required=True, default_value=\"incol\", tooltip=\"Column to add\"),\n",
    "#     local_context=locals()\n",
    "# )\n",
    "Airline_Parameter = Helpers.get_or_create_input_var(name=\"Airline\",\n",
    "    metadata=Metadata(input_name=\"Airline\", is_required=True, tooltip=\"All Airline names\", multiple=False, datatypes=['STRING'],options=['FIELDS', 'CONSTANT'], datasets=['inputDataset']),\n",
    "    local_context=locals()\n",
    "    )\n",
    "\n",
    "Departures_On_Time_Parameter = Helpers.get_or_create_input_var(\n",
    "    name=\"Departures_On_Time\",\n",
    "    metadata=Metadata(input_name=\"Departures_On_Time\", is_required=True, tooltip=\"All Departures_On_Time\", multiple=False,datatypes=['STRING'] ,options=['FIELDS', 'CONSTANT'], datasets=['inputDataset']),\n",
    "    local_context=locals()\n",
    ")\n",
    "\n",
    "\n",
    "Departures_Delayed_Parameter = Helpers.get_or_create_input_var(\n",
    "    name=\"Departures_Delayed\",\n",
    "    metadata=Metadata(input_name=\"Departures_Delayed\", is_required=True, tooltip=\"All Departures_On_Time\", multiple=False, datatypes=['STRING'],options=['FIELDS', 'CONSTANT'], datasets=['inputDataset']),\n",
    "    local_context=locals()\n",
    ")\n",
    "\n",
    "Sectors_Scheduled_Parameter = Helpers.get_or_create_input_var(\n",
    "    name=\"Sectors_Scheduled\",\n",
    "    metadata=Metadata(input_name=\"Sectors_Scheduled\", is_required=True, tooltip=\"All Departures_On_Time\", multiple=False, datatypes=['STRING'],options=['FIELDS', 'CONSTANT'], datasets=['inputDataset']),\n",
    "    local_context=locals()\n",
    ")\n",
    "\n",
    "\n",
    "\n",
    "Sectors_Flown_Parameter = Helpers.get_or_create_input_var(\n",
    "    name=\"Sectors_Flown\",\n",
    "    metadata=Metadata(input_name=\"Sectors_Flown\", is_required=True, tooltip=\"All Departures_On_Time\", multiple=False, datatypes=['STRING'],options=['FIELDS', 'CONSTANT'], datasets=['inputDataset']),\n",
    "    local_context=locals()\n",
    ")\n",
    "\n",
    "# Airline_Parameter = Helpers.get_or_create_input_var(\n",
    "#     name=\"Airline\",\n",
    "#     metadata=Metadata(input_name=\"Sectors_Flown\", is_required=True, tooltip=\"All Departures_On_Time\", multiple=False, datatypes=['STRING'],options=['FIELDS', 'CONSTANT'], datasets=['inputDataset']),\n",
    "#     local_context=locals()\n",
    "# )\n",
    "\n",
    "\n",
    "\n",
    "Cancellations_Parameter = Helpers.get_or_create_input_var(\n",
    "    name=\"Cancellations\",\n",
    "    metadata=Metadata(input_name=\"Cancellations\", is_required=True, tooltip=\"All Departures_On_Time\", multiple=False, options=['FIELDS', 'CONSTANT'], datasets=['inputDataset']),\n",
    "    local_context=locals()\n",
    ")\n",
    "\n",
    "\n",
    "Arrivals_Delayed_Parameter = Helpers.get_or_create_input_var(\n",
    "    name=\"Arrivals_Delayed\",\n",
    "    metadata=Metadata(input_name=\"Arrivals_Delayed\", is_required=True, tooltip=\"All Departures_On_Time\", multiple=False, options=['FIELDS', 'CONSTANT'], datasets=['inputDataset']),\n",
    "    local_context=locals()\n",
    ")\n",
    "\n",
    "\n",
    "Departing_Port_Parameter = Helpers.get_or_create_input_var(\n",
    "    name=\"Departing_Port\",\n",
    "    metadata=Metadata(input_name=\"Departing_Port\", is_required=True, tooltip=\"All Departures_On_Time\", multiple=False, options=['FIELDS', 'CONSTANT'], datasets=['inputDataset']),\n",
    "    local_context=locals()\n",
    ")\n",
    "\n",
    "# useless_Parameter = Helpers.get_or_create_input_var(\n",
    "#     name=\"useless\",\n",
    "#     metadata=Metadata(input_name=\"Departing_Port\", is_required=True, tooltip=\"All Departures_On_Time\", multiple=False, options=['FIELDS', 'CONSTANT'], datasets=['inputDataset']),\n",
    "#     local_context=locals()\n",
    "# )\n",
    "\n",
    "\n",
    "\n",
    "Arriving_Port_Parameter = Helpers.get_or_create_input_var(\n",
    "    name=\"Arriving_Port\",\n",
    "    metadata=Metadata(input_name=\"Arriving_Port\", is_required=True, tooltip=\"All Departures_On_Time\", multiple=False, options=['FIELDS', 'CONSTANT'], datasets=['inputDataset']),\n",
    "    local_context=locals()\n",
    ")\n",
    "\n",
    "Year_Parameter = Helpers.get_or_create_input_var(\n",
    "    name=\"Year\",\n",
    "    metadata=Metadata(input_name=\"Year\", is_required=True, tooltip=\"All Departures_On_Time\", multiple=False, options=['FIELDS', 'CONSTANT'], datasets=['inputDataset']),\n",
    "    local_context=locals()\n",
    ")\n",
    "\n",
    "Month_Num_Parameter = Helpers.get_or_create_input_var(\n",
    "    name=\"Month_Num\",\n",
    "    metadata=Metadata(input_name=\"Month_Num\", is_required=True, tooltip=\"All Departures_On_Time\", multiple=False, options=['FIELDS', 'CONSTANT'], datasets=['inputDataset']),\n",
    "    local_context=locals()\n",
    ")\n",
    "\n",
    "\n",
    "\n",
    "\n",
    "\n",
    "\n",
    "\n",
    "\n",
    "outputDataset_Parameter =Helpers.get_or_create_output_dataset(\n",
    " name=\"outputDataset\",\n",
    "    metadata=Metadata(input_name='train', is_required=True, tooltip='Dataset name to be created after the transformation'),\n",
    "    local_context=locals()\n",
    ")\n",
    "    \n",
    "    \n",
    "\n",
    "outputDataset_Parameter2 =Helpers.get_or_create_output_dataset(\n",
    " name=\"outputDataset2\",\n",
    "    metadata=Metadata(input_name='test', is_required=True, tooltip='Dataset name to be created after the transformation'),\n",
    "    local_context=locals()\n",
    ")\n",
    "    \n"
   ]
  },
  {
   "cell_type": "code",
   "execution_count": 3,
   "id": "7d3a14c6-7315-4c4a-af34-21732f577d62",
   "metadata": {},
   "outputs": [],
   "source": [
    "#Getting the parameters\n",
    "airline=inputDatasetParameter.value\n",
    "\n",
    "outputDataset=outputDataset_Parameter.value\n",
    "outputDataset2=outputDataset_Parameter2.value\n",
    "\n",
    "Airline = Airline_Parameter.value\n",
    "\n",
    "Departures_On_Time =Departures_On_Time_Parameter.value\n",
    "Departures_Delayed =    Departures_Delayed_Parameter.value\n",
    "Sectors_Scheduled=    Sectors_Scheduled_Parameter.value\n",
    "Sectors_Flown=    Sectors_Flown_Parameter.value\n",
    "Cancellations=    Cancellations_Parameter.value\n",
    "Month_Num = Month_Num_Parameter.value\n",
    "Year = Year_Parameter.value\n",
    "Arrivals_Delayed = Arrivals_Delayed_Parameter.value\n",
    "Departing_Port=Departing_Port_Parameter.value\n",
    "Arriving_Port=Arriving_Port_Parameter.value\n",
    "\n",
    "\n",
    "\n",
    "\n",
    "\n",
    "\n",
    "\n",
    "\n",
    "\n",
    "# outputDataset2=outputDatasetParameter2.value"
   ]
  },
  {
   "cell_type": "code",
   "execution_count": 4,
   "id": "445b0319-226b-4b17-8510-ac0459bb0c7c",
   "metadata": {},
   "outputs": [
    {
     "data": {
      "text/plain": [
       "'airline'"
      ]
     },
     "execution_count": 4,
     "metadata": {},
     "output_type": "execute_result"
    }
   ],
   "source": [
    "inputDatasetParameter.value\n"
   ]
  },
  {
   "cell_type": "code",
   "execution_count": 5,
   "id": "764adcb1-8d7c-45b6-b63b-251cf326654e",
   "metadata": {},
   "outputs": [
    {
     "ename": "Exception",
     "evalue": "Entity with name airline doesn't exists, available entities are otp_time_series_web",
     "output_type": "error",
     "traceback": [
      "\u001b[0;31m---------------------------------------------------------------------------\u001b[0m",
      "\u001b[0;31mException\u001b[0m                                 Traceback (most recent call last)",
      "Cell \u001b[0;32mIn [5], line 1\u001b[0m\n\u001b[0;32m----> 1\u001b[0m airline \u001b[38;5;241m=\u001b[39m  \u001b[43mHelpers\u001b[49m\u001b[38;5;241;43m.\u001b[39;49m\u001b[43mgetEntityData\u001b[49m\u001b[43m(\u001b[49m\u001b[43mcontext\u001b[49m\u001b[43m,\u001b[49m\u001b[43m \u001b[49m\u001b[43mairline\u001b[49m\u001b[43m)\u001b[49m\n",
      "File \u001b[0;32m/opt/conda/lib/python3.10/site-packages/utils/notebookhelpers/helpers.py:271\u001b[0m, in \u001b[0;36mHelpers.getEntityData\u001b[0;34m(context, entityName, inferDTypesFromSchema, numRows, pandas_lib)\u001b[0m\n\u001b[1;32m    268\u001b[0m             entityDf \u001b[38;5;241m=\u001b[39m FunctionLib\u001b[38;5;241m.\u001b[39mset_data_types(entityDf, schema)\n\u001b[1;32m    269\u001b[0m         \u001b[38;5;28;01mreturn\u001b[39;00m entityDf\n\u001b[0;32m--> 271\u001b[0m \u001b[38;5;28;01mraise\u001b[39;00m \u001b[38;5;167;01mException\u001b[39;00m(\n\u001b[1;32m    272\u001b[0m     \u001b[38;5;124m\"\u001b[39m\u001b[38;5;124mEntity with name \u001b[39m\u001b[38;5;124m\"\u001b[39m \u001b[38;5;241m+\u001b[39m \u001b[38;5;28mstr\u001b[39m(entityName)\n\u001b[1;32m    273\u001b[0m     \u001b[38;5;241m+\u001b[39m \u001b[38;5;124m\"\u001b[39m\u001b[38;5;124m doesn\u001b[39m\u001b[38;5;124m'\u001b[39m\u001b[38;5;124mt exists, available entities are \u001b[39m\u001b[38;5;124m\"\u001b[39m\n\u001b[1;32m    274\u001b[0m     \u001b[38;5;241m+\u001b[39m \u001b[38;5;124m\"\u001b[39m\u001b[38;5;124m,\u001b[39m\u001b[38;5;124m\"\u001b[39m\u001b[38;5;241m.\u001b[39mjoin(availableEntities)\n\u001b[1;32m    275\u001b[0m )\n\u001b[1;32m    276\u001b[0m \u001b[38;5;28;01mreturn\u001b[39;00m \u001b[38;5;28;01mNone\u001b[39;00m\n",
      "\u001b[0;31mException\u001b[0m: Entity with name airline doesn't exists, available entities are otp_time_series_web"
     ]
    }
   ],
   "source": [
    "airline =  Helpers.getEntityData(context, airline)"
   ]
  },
  {
   "cell_type": "code",
   "execution_count": 9,
   "id": "4eb40492-aa21-413b-a0f2-1f6a018f79d1",
   "metadata": {},
   "outputs": [
    {
     "data": {
      "text/html": [
       "<div>\n",
       "<style scoped>\n",
       "    .dataframe tbody tr th:only-of-type {\n",
       "        vertical-align: middle;\n",
       "    }\n",
       "\n",
       "    .dataframe tbody tr th {\n",
       "        vertical-align: top;\n",
       "    }\n",
       "\n",
       "    .dataframe thead th {\n",
       "        text-align: right;\n",
       "    }\n",
       "</style>\n",
       "<table border=\"1\" class=\"dataframe\">\n",
       "  <thead>\n",
       "    <tr style=\"text-align: right;\">\n",
       "      <th></th>\n",
       "      <th>Route</th>\n",
       "      <th>Departing_Port</th>\n",
       "      <th>Arriving_Port</th>\n",
       "      <th>Airline</th>\n",
       "      <th>Month</th>\n",
       "      <th>Sectors_Scheduled</th>\n",
       "      <th>Sectors_Flown</th>\n",
       "      <th>Cancellations</th>\n",
       "      <th>Departures_On_Time</th>\n",
       "      <th>Arrivals_On_Time</th>\n",
       "      <th>Departures_Delayed</th>\n",
       "      <th>Arrivals_Delayed</th>\n",
       "      <th>Year</th>\n",
       "      <th>Month_Num</th>\n",
       "    </tr>\n",
       "  </thead>\n",
       "  <tbody>\n",
       "    <tr>\n",
       "      <th>0</th>\n",
       "      <td>Adelaide-Brisbane</td>\n",
       "      <td>Adelaide</td>\n",
       "      <td>Brisbane</td>\n",
       "      <td>All Airlines</td>\n",
       "      <td>Jan-04</td>\n",
       "      <td>155.0</td>\n",
       "      <td>155</td>\n",
       "      <td>0.0</td>\n",
       "      <td>123.0</td>\n",
       "      <td>120.0</td>\n",
       "      <td>32.0</td>\n",
       "      <td>35.0</td>\n",
       "      <td>2004</td>\n",
       "      <td>1</td>\n",
       "    </tr>\n",
       "    <tr>\n",
       "      <th>1</th>\n",
       "      <td>Adelaide-Canberra</td>\n",
       "      <td>Adelaide</td>\n",
       "      <td>Canberra</td>\n",
       "      <td>All Airlines</td>\n",
       "      <td>Jan-04</td>\n",
       "      <td>75.0</td>\n",
       "      <td>75</td>\n",
       "      <td>0.0</td>\n",
       "      <td>72.0</td>\n",
       "      <td>72.0</td>\n",
       "      <td>3.0</td>\n",
       "      <td>3.0</td>\n",
       "      <td>2004</td>\n",
       "      <td>1</td>\n",
       "    </tr>\n",
       "  </tbody>\n",
       "</table>\n",
       "</div>"
      ],
      "text/plain": [
       "               Route Departing_Port Arriving_Port       Airline   Month  \\\n",
       "0  Adelaide-Brisbane       Adelaide      Brisbane  All Airlines  Jan-04   \n",
       "1  Adelaide-Canberra       Adelaide      Canberra  All Airlines  Jan-04   \n",
       "\n",
       "   Sectors_Scheduled  Sectors_Flown  Cancellations  Departures_On_Time  \\\n",
       "0              155.0            155            0.0               123.0   \n",
       "1               75.0             75            0.0                72.0   \n",
       "\n",
       "   Arrivals_On_Time  Departures_Delayed  Arrivals_Delayed  Year  Month_Num  \n",
       "0             120.0                32.0              35.0  2004          1  \n",
       "1              72.0                 3.0               3.0  2004          1  "
      ]
     },
     "execution_count": 9,
     "metadata": {},
     "output_type": "execute_result"
    }
   ],
   "source": [
    "airline.head(2)"
   ]
  },
  {
   "cell_type": "code",
   "execution_count": 10,
   "id": "eebcd0c8-0257-43b8-9f0f-5ed02d0e2eac",
   "metadata": {},
   "outputs": [],
   "source": [
    "XTrain = airline.sample(frac=0.9,random_state=123)"
   ]
  },
  {
   "cell_type": "code",
   "execution_count": 12,
   "id": "1584e844-8a92-48b3-a74e-1232adc316ef",
   "metadata": {},
   "outputs": [],
   "source": [
    "XVal = airline.drop(XTrain.index)"
   ]
  },
  {
   "cell_type": "code",
   "execution_count": 14,
   "id": "5dfb9397-10f9-41a6-bc8e-84e7128cf84f",
   "metadata": {},
   "outputs": [
    {
     "data": {
      "text/plain": [
       "(87574, 9730)"
      ]
     },
     "execution_count": 14,
     "metadata": {},
     "output_type": "execute_result"
    }
   ],
   "source": [
    "len(XTrain),len(XVal)"
   ]
  },
  {
   "cell_type": "markdown",
   "id": "9074645e-2a49-44c5-8109-835bcfb6dcb9",
   "metadata": {},
   "source": [
    "result= pd.DataFrame(model.predict(X_test_norm))"
   ]
  },
  {
   "cell_type": "code",
   "execution_count": null,
   "id": "ab36f498-cf28-49a8-a838-f94dce0c206c",
   "metadata": {},
   "outputs": [],
   "source": [
    "outputCollection = Helpers.createOutputCollection(context)\n",
    "out = Helpers.createTemplateOutputDataset(context=context, outputName=outputDataset, dataFrame=XTrain)\n",
    "out2 = Helpers.createTemplateOutputDataset(context=context, outputName=outputDataset2, dataFrame=XVal)\n",
    "\n",
    "# out = Helpers.createTemplateOutputDataset(context=context, outputName=outputDataset3, dataFrame=Xtrain)\n",
    "# out2 = Helpers.createTemplateOutputDataset(context=context, outputName=outputDataset4, dataFrame=X_test_norm)\n",
    "# out3 = Helpers.createTemplateOutputDataset(context=context, outputName=outputDataset5, dataFrame=Y_train)\n",
    "# out4 = Helpers.createTemplateOutputDataset(context=context, outputName=outputDataset6, dataFrame=Y_test)\n",
    "outputCollection.addTemplateOutput(out)\n",
    "outputCollection.addTemplateOutput(out2)\n",
    "# outputCollection.addTemplateOutput(out3)\n",
    "# outputCollection.addTemplateOutput(out4)\n",
    "Helpers.save(context)"
   ]
  },
  {
   "cell_type": "code",
   "execution_count": null,
   "id": "ba44f202-1ff0-43e2-8b22-419267623187",
   "metadata": {},
   "outputs": [],
   "source": []
  },
  {
   "cell_type": "code",
   "execution_count": null,
   "id": "12082c86-4b5d-40de-a03a-334a5101dcf8",
   "metadata": {},
   "outputs": [],
   "source": []
  },
  {
   "cell_type": "code",
   "execution_count": null,
   "id": "bff5955e-9049-49ee-a595-6edbc61a3bd5",
   "metadata": {},
   "outputs": [],
   "source": []
  },
  {
   "cell_type": "code",
   "execution_count": null,
   "id": "1bcab0bd-18ae-44b4-9e53-d8687e3350b2",
   "metadata": {},
   "outputs": [],
   "source": []
  },
  {
   "cell_type": "code",
   "execution_count": null,
   "id": "eb1b4d20-74c1-4cc0-a101-640ce82ed668",
   "metadata": {},
   "outputs": [],
   "source": []
  },
  {
   "cell_type": "code",
   "execution_count": null,
   "id": "c5bcb751-73e5-4e0a-b8cb-9bf4169c80a1",
   "metadata": {},
   "outputs": [],
   "source": []
  },
  {
   "cell_type": "code",
   "execution_count": null,
   "id": "6a8e50ad-9ae5-4fe3-925c-6f3c027789e5",
   "metadata": {},
   "outputs": [],
   "source": []
  },
  {
   "cell_type": "code",
   "execution_count": null,
   "id": "0c23601e-657b-49a5-a255-b69bea97389d",
   "metadata": {},
   "outputs": [],
   "source": []
  }
 ],
 "metadata": {
  "kernelspec": {
   "display_name": "Python 3 (ipykernel)",
   "language": "python",
   "name": "python3"
  },
  "language_info": {
   "codemirror_mode": {
    "name": "ipython",
    "version": 3
   },
   "file_extension": ".py",
   "mimetype": "text/x-python",
   "name": "python",
   "nbconvert_exporter": "python",
   "pygments_lexer": "ipython3",
   "version": "3.10.8"
  }
 },
 "nbformat": 4,
 "nbformat_minor": 5
}
