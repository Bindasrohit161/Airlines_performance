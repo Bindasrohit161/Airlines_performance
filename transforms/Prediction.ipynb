{
 "cells": [
  {
   "cell_type": "code",
   "execution_count": 2,
   "id": "1329a5f2-4924-4836-a173-99cfbc969880",
   "metadata": {},
   "outputs": [
    {
     "name": "stdout",
     "output_type": "stream",
     "text": [
      "Requirement already satisfied: scikit-learn in /opt/conda/lib/python3.10/site-packages (1.2.0)\n",
      "Requirement already satisfied: scipy>=1.3.2 in /opt/conda/lib/python3.10/site-packages (from scikit-learn) (1.9.3)\n",
      "Requirement already satisfied: numpy>=1.17.3 in /opt/conda/lib/python3.10/site-packages (from scikit-learn) (1.23.5)\n",
      "Requirement already satisfied: joblib>=1.1.1 in /opt/conda/lib/python3.10/site-packages (from scikit-learn) (1.2.0)\n",
      "Requirement already satisfied: threadpoolctl>=2.0.0 in /opt/conda/lib/python3.10/site-packages (from scikit-learn) (3.1.0)\n"
     ]
    }
   ],
   "source": [
    "import pandas as pd\n",
    "from utils.notebookhelpers.helpers import Helpers\n",
    "from utils.dtos.templateOutputCollection import TemplateOutputCollection\n",
    "from utils.dtos.variable import Metadata\n",
    "from utils.dtos.templateOutput import TemplateOutput\n",
    "from utils.dtos.templateOutput import OutputType\n",
    "from utils.dtos.templateOutput import ChartType\n",
    "import pandas as pd\n",
    "import pickle\n",
    "import numpy as np\n",
    "!pip install scikit-learn\n",
    "# import plotly.express as px\n",
    "from sklearn.model_selection import GridSearchCV,KFold\n",
    "from sklearn.model_selection import RandomizedSearchCV\n",
    "from sklearn.calibration import CalibratedClassifierCV\n",
    "from sklearn.metrics import  f1_score, roc_auc_score, confusion_matrix\n",
    "from shaphypetune import BoostSearch, BoostBoruta, BoostRFE, BoostRFA\n",
    "from sklearn.metrics import roc_auc_score\n",
    "from scipy import stats\n",
    "# from xgboost import XGBClassifier\n",
    "from sklearn.preprocessing import StandardScaler\n",
    "\n",
    "##Pycaret\n",
    "# import jinja2\n",
    "# from pycaret.classification import *\n",
    "import pickle\n",
    "import copy\n",
    "import numpy as np"
   ]
  },
  {
   "cell_type": "code",
   "execution_count": 21,
   "id": "fce65c38-9bfc-4d31-b573-fe5cabd98d54",
   "metadata": {},
   "outputs": [],
   "source": [
    "#Getting the context\n",
    "contextId = 'Airline_performance'\n",
    "context = Helpers.getOrCreateContext(contextId=contextId, localVars=locals())\n",
    "\n",
    "inputDatasetParameter=Helpers.get_or_create_input_dataset(\n",
    "    name=\"inputDataset3\",\n",
    "    metadata=Metadata(input_name='Clustered data', is_required=True, tooltip='output transformation'),\n",
    "    local_context=locals()\n",
    ")\n",
    "\n",
    "\n",
    "\n",
    "\n",
    "\n",
    "\n",
    "Departures_On_Time_Parameter = Helpers.get_or_create_input_var(\n",
    "    name=\"Departures_On_Time\",\n",
    "    metadata=Metadata(input_name=\"Departures_On_Time\", is_required=True, tooltip=\"All Departures_On_Time\", multiple=False,datatypes=['STRING'] ,options=['FIELDS', 'CONSTANT'], datasets=['inputDataset']),\n",
    "    local_context=locals()\n",
    ")\n",
    "\n",
    "\n",
    "\n",
    "\n",
    "Total_scheduled_Parameter = Helpers.get_or_create_input_var(\n",
    "    name=\"Total_scheduled\",\n",
    "    metadata=Metadata(input_name=\"Total_scheduled\", is_required=True, tooltip=\"All Departures_On_Time\", multiple=False, datatypes=['STRING'],options=['FIELDS', 'CONSTANT'], datasets=['inputDataset']),\n",
    "    local_context=locals()\n",
    ")\n",
    "\n",
    "\n",
    "\n",
    "Total_departed_Parameter = Helpers.get_or_create_input_var(\n",
    "    name=\"Total_departed\",\n",
    "    metadata=Metadata(input_name=\"Total_departed\", is_required=True, tooltip=\"All Departures_On_Time\", multiple=False, datatypes=['STRING'],options=['FIELDS', 'CONSTANT'], datasets=['inputDataset']),\n",
    "    local_context=locals()\n",
    ")\n",
    "\n",
    "\n",
    "\n",
    "\n",
    "\n",
    "Cancellations_Parameter = Helpers.get_or_create_input_var(\n",
    "    name=\"Cancellations\",\n",
    "    metadata=Metadata(input_name=\"Cancellations\", is_required=True, tooltip=\"All Departures_On_Time\", multiple=False, options=['FIELDS', 'CONSTANT'], datasets=['inputDataset']),\n",
    "    local_context=locals()\n",
    ")\n",
    "\n",
    "\n",
    "Arrivals_Delayed_Parameter = Helpers.get_or_create_input_var(\n",
    "    name=\"Arrivals_Delayed\",\n",
    "    metadata=Metadata(input_name=\"Arrivals_Delayed\", is_required=True, tooltip=\"All Departures_On_Time\", multiple=False, options=['FIELDS', 'CONSTANT'], datasets=['inputDataset']),\n",
    "    local_context=locals()\n",
    ")\n",
    "\n",
    "\n",
    "\n",
    "\n",
    "\n",
    "Cancelled_perc_Parameter = Helpers.get_or_create_input_var(\n",
    "    name=\"Cancelled_perc\",\n",
    "    metadata=Metadata(input_name=\"Cancelled_perc\", is_required=True, tooltip=\"Output column\", multiple=False,\n",
    "),\n",
    "    local_context=locals()\n",
    ")\n",
    "\n",
    "\n",
    "departure_delay_perc_Parameter = Helpers.get_or_create_input_var(\n",
    "    name=\"departure_delay_perc\",\n",
    "    metadata=Metadata(input_name=\"departure_delay_perc\", is_required=True, tooltip=\"Output column\", multiple=False, \n",
    "),\n",
    "    local_context=locals()\n",
    ")\n",
    "\n",
    "\n",
    "arrival_delay_perc_Parameter = Helpers.get_or_create_input_var(\n",
    "    name=\"arrival_delay_perc\",\n",
    "    metadata=Metadata(input_name=\"arrival_delay_perc\", is_required=True, tooltip=\"Output column\", multiple=False,\n",
    "),\n",
    "    local_context=locals()\n",
    ")\n",
    "\n",
    "\n",
    "Dep_Arr_delay_Parameter = Helpers.get_or_create_input_var(\n",
    "    name=\"Dep_Arr_delay\",\n",
    "    metadata=Metadata(input_name=\"Dep_Arr_delay\", is_required=True, tooltip=\"Output column\", multiple=False,\n",
    "),\n",
    "    local_context=locals()\n",
    ")\n",
    "\n",
    "\n",
    "\n",
    "Btwness_Parameter = Helpers.get_or_create_input_var(\n",
    "    name=\"Btwness\",\n",
    "    metadata=Metadata(input_name=\"Btwness\", is_required=True, tooltip=\"Output column\", multiple=False,\n",
    "),\n",
    "    local_context=locals()\n",
    ")\n",
    "\n",
    "\n",
    "closeness_Parameter = Helpers.get_or_create_input_var(\n",
    "    name=\"closeness\",\n",
    "    metadata=Metadata(input_name=\"closeness\", is_required=True, tooltip=\"Output column\", multiple=False, \n",
    "),\n",
    "    local_context=locals()\n",
    ") \n",
    "\n",
    "\n",
    "Deg_centrality_Parameter = Helpers.get_or_create_input_var(\n",
    "    name=\"Deg_centrality\",\n",
    "    metadata=Metadata(input_name=\"Deg_centrality\", is_required=True, tooltip=\"Output column\", multiple=False, \n",
    "),\n",
    "    local_context=locals()\n",
    ") \n",
    "\n",
    "\n",
    "\n",
    "\n",
    "\n",
    "\n",
    "outputDatasetParameter=Helpers.get_or_create_output_dataset(\n",
    " name=\"outputDataset3\",\n",
    "    metadata=Metadata(input_name='Xtrain', is_required=True, tooltip='Dataset name to be created after the transformation'),\n",
    "    local_context=locals()\n",
    ")\n",
    "\n",
    "\n",
    "#Model Save\n",
    "modelNameParameter=Helpers.get_or_create_input_var(\n",
    "    name=\"modelName\",\n",
    "    metadata=Metadata(input_name=\"Published Model Name\", is_required=True, tooltip=\"Type the model name that you have saved\", multiple=False, datatypes=['STRING'], options=['CONSTANT']),\n",
    "    local_context=locals()\n",
    ")"
   ]
  },
  {
   "cell_type": "code",
   "execution_count": 22,
   "id": "f2be0567-de57-44a7-a83d-2f3b0bac0362",
   "metadata": {},
   "outputs": [],
   "source": [
    "#Getting the parameters\n",
    "airline_val=inputDatasetParameter.value\n",
    "Departures_On_Time =Departures_On_Time_Parameter.value\n",
    "\n",
    "Cancellations=    Cancellations_Parameter.value\n",
    "\n",
    "Arrivals_Delayed = Arrivals_Delayed_Parameter.value\n",
    "\n",
    "Total_scheduled=Total_scheduled_Parameter.value\n",
    "Total_departed= Total_departed_Parameter.value\n",
    "Cancelled_perc = Cancelled_perc_Parameter.value\n",
    "departure_delay_perc= departure_delay_perc_Parameter.value\n",
    "arrival_delay_perc = arrival_delay_perc_Parameter.value\n",
    "Dep_Arr_delay = Dep_Arr_delay_Parameter.value\n",
    "Btwness = Btwness_Parameter.value\n",
    "closeness = closeness_Parameter.value\n",
    "Deg_centrality = Deg_centrality_Parameter.value\n",
    "\n",
    "outputDataset3=outputDatasetParameter.value\n",
    "\n",
    "modelName=modelNameParameter.value"
   ]
  },
  {
   "cell_type": "code",
   "execution_count": 23,
   "id": "cfc9d508-fb95-42cb-8f1d-7a77168007d9",
   "metadata": {},
   "outputs": [],
   "source": [
    "df = Helpers.getEntityData(context,airline_val)\n"
   ]
  },
  {
   "cell_type": "code",
   "execution_count": 33,
   "id": "68a74c7c-bf44-432c-9353-b28c84376044",
   "metadata": {},
   "outputs": [
    {
     "data": {
      "text/html": [
       "<div>\n",
       "<style scoped>\n",
       "    .dataframe tbody tr th:only-of-type {\n",
       "        vertical-align: middle;\n",
       "    }\n",
       "\n",
       "    .dataframe tbody tr th {\n",
       "        vertical-align: top;\n",
       "    }\n",
       "\n",
       "    .dataframe thead th {\n",
       "        text-align: right;\n",
       "    }\n",
       "</style>\n",
       "<table border=\"1\" class=\"dataframe\">\n",
       "  <thead>\n",
       "    <tr style=\"text-align: right;\">\n",
       "      <th></th>\n",
       "      <th>Deg_centrality</th>\n",
       "      <th>closeness</th>\n",
       "      <th>Btwness</th>\n",
       "      <th>Cancelled_perc</th>\n",
       "      <th>departure_delay_perc</th>\n",
       "      <th>arrival_delay_perc</th>\n",
       "      <th>Total_scheduled</th>\n",
       "      <th>Total_departed</th>\n",
       "      <th>Cancellations</th>\n",
       "      <th>Departures_On_Time</th>\n",
       "      <th>Arrivals_Delayed</th>\n",
       "      <th>Dep_Arr_delay</th>\n",
       "    </tr>\n",
       "  </thead>\n",
       "  <tbody>\n",
       "    <tr>\n",
       "      <th>0</th>\n",
       "      <td>0.270934</td>\n",
       "      <td>0.448209</td>\n",
       "      <td>0.209187</td>\n",
       "      <td>0.266232</td>\n",
       "      <td>2.697741</td>\n",
       "      <td>2.611200</td>\n",
       "      <td>8.410943</td>\n",
       "      <td>8.403352</td>\n",
       "      <td>3.555348</td>\n",
       "      <td>8.254789</td>\n",
       "      <td>6.278521</td>\n",
       "      <td>2.890372</td>\n",
       "    </tr>\n",
       "    <tr>\n",
       "      <th>1</th>\n",
       "      <td>0.217674</td>\n",
       "      <td>0.397667</td>\n",
       "      <td>0.140924</td>\n",
       "      <td>0.203556</td>\n",
       "      <td>2.322388</td>\n",
       "      <td>2.424803</td>\n",
       "      <td>10.404929</td>\n",
       "      <td>10.399494</td>\n",
       "      <td>5.192957</td>\n",
       "      <td>10.295327</td>\n",
       "      <td>8.155362</td>\n",
       "      <td>0.000000</td>\n",
       "    </tr>\n",
       "  </tbody>\n",
       "</table>\n",
       "</div>"
      ],
      "text/plain": [
       "   Deg_centrality  closeness   Btwness  Cancelled_perc  departure_delay_perc  \\\n",
       "0        0.270934   0.448209  0.209187        0.266232              2.697741   \n",
       "1        0.217674   0.397667  0.140924        0.203556              2.322388   \n",
       "\n",
       "   arrival_delay_perc  Total_scheduled  Total_departed  Cancellations  \\\n",
       "0            2.611200         8.410943        8.403352       3.555348   \n",
       "1            2.424803        10.404929       10.399494       5.192957   \n",
       "\n",
       "   Departures_On_Time  Arrivals_Delayed  Dep_Arr_delay  \n",
       "0            8.254789          6.278521       2.890372  \n",
       "1           10.295327          8.155362       0.000000  "
      ]
     },
     "execution_count": 33,
     "metadata": {},
     "output_type": "execute_result"
    }
   ],
   "source": [
    "df.head(2)"
   ]
  },
  {
   "cell_type": "code",
   "execution_count": 25,
   "id": "65abfb11-6cf2-49f3-be67-e8df912497d8",
   "metadata": {},
   "outputs": [],
   "source": [
    "sc = StandardScaler()\n",
    "val = sc.fit_transform(df)\n",
    "# X_test_norm = sc.transform(X_test)"
   ]
  },
  {
   "cell_type": "code",
   "execution_count": 26,
   "id": "9dd3592e-6282-43ce-9a44-79ed1b5146d3",
   "metadata": {},
   "outputs": [
    {
     "data": {
      "text/plain": [
       "array([[ 0.5655881 ,  0.45877765,  0.72548992, -0.69100003, -0.21591725,\n",
       "        -0.47192671,  1.32063335,  1.33007551,  0.81916939,  1.35761786,\n",
       "         1.06381609,  1.53308623],\n",
       "       [-0.0256263 , -0.26902114, -0.11234399, -0.78121294, -0.93380305,\n",
       "        -0.83172873,  2.58482288,  2.5942067 ,  1.80182731,  2.64540784,\n",
       "         2.21708883, -0.72241099],\n",
       "       [-0.50247196, -0.23623651, -0.18817239,  0.8493029 , -0.72107722,\n",
       "        -0.95516849, -0.02422772, -0.02392525,  0.26934311,  0.02560944,\n",
       "        -0.28863477,  0.35938171],\n",
       "       [ 0.75149775,  0.58507816,  0.55075729, -0.17120876, -0.69515634,\n",
       "        -1.177977  ,  0.96159163,  0.97126275,  0.51264512,  1.02235916,\n",
       "         0.56059999,  1.61530415],\n",
       "       [ 0.07537989,  0.15676898, -0.27442133,  0.06983194, -1.21616594,\n",
       "        -1.4983769 ,  0.36824391,  0.37784611,  0.06744073,  0.443806  ,\n",
       "        -0.1015336 ,  0.53351144]])"
      ]
     },
     "execution_count": 26,
     "metadata": {},
     "output_type": "execute_result"
    }
   ],
   "source": [
    "val[:5]"
   ]
  },
  {
   "cell_type": "code",
   "execution_count": 30,
   "id": "c57dce0b-e056-45bd-8def-7944cbdd3541",
   "metadata": {},
   "outputs": [
    {
     "name": "stderr",
     "output_type": "stream",
     "text": [
      "_request non-retriable exception: Anonymous caller does not have storage.objects.list access to the Google Cloud Storage bucket. Permission 'storage.objects.list' denied on resource (or it may not exist)., 401\n",
      "Traceback (most recent call last):\n",
      "  File \"/opt/conda/lib/python3.10/site-packages/gcsfs/retry.py\", line 115, in retry_request\n",
      "    return await func(*args, **kwargs)\n",
      "  File \"/opt/conda/lib/python3.10/site-packages/gcsfs/core.py\", line 384, in _request\n",
      "    validate_response(status, contents, path, args)\n",
      "  File \"/opt/conda/lib/python3.10/site-packages/gcsfs/retry.py\", line 102, in validate_response\n",
      "    raise HttpError(error)\n",
      "gcsfs.retry.HttpError: Anonymous caller does not have storage.objects.list access to the Google Cloud Storage bucket. Permission 'storage.objects.list' denied on resource (or it may not exist)., 401\n"
     ]
    },
    {
     "name": "stdout",
     "output_type": "stream",
     "text": [
      "downloading artifacts from gs://rapidcanvas-platform-data-local/tenant-test-tenant/artifacts/XGB_Shap_model/ to /tmp/rc/temp/tenant-test-tenant/artifacts/XGB_Shap_model/\n"
     ]
    },
    {
     "data": {
      "text/plain": [
       "{}"
      ]
     },
     "execution_count": 30,
     "metadata": {},
     "output_type": "execute_result"
    }
   ],
   "source": [
    " Helpers.downloadArtifacts(context, modelName)"
   ]
  },
  {
   "cell_type": "code",
   "execution_count": 27,
   "id": "5af115de-3630-48d1-ba3d-63375afb3241",
   "metadata": {},
   "outputs": [
    {
     "name": "stderr",
     "output_type": "stream",
     "text": [
      "_request non-retriable exception: Anonymous caller does not have storage.objects.list access to the Google Cloud Storage bucket. Permission 'storage.objects.list' denied on resource (or it may not exist)., 401\n",
      "Traceback (most recent call last):\n",
      "  File \"/opt/conda/lib/python3.10/site-packages/gcsfs/retry.py\", line 115, in retry_request\n",
      "    return await func(*args, **kwargs)\n",
      "  File \"/opt/conda/lib/python3.10/site-packages/gcsfs/core.py\", line 384, in _request\n",
      "    validate_response(status, contents, path, args)\n",
      "  File \"/opt/conda/lib/python3.10/site-packages/gcsfs/retry.py\", line 102, in validate_response\n",
      "    raise HttpError(error)\n",
      "gcsfs.retry.HttpError: Anonymous caller does not have storage.objects.list access to the Google Cloud Storage bucket. Permission 'storage.objects.list' denied on resource (or it may not exist)., 401\n"
     ]
    },
    {
     "name": "stdout",
     "output_type": "stream",
     "text": [
      "downloading artifacts from gs://rapidcanvas-platform-data-local/tenant-test-tenant/artifacts/XGB_Shap_model/ to /tmp/rc/temp/tenant-test-tenant/artifacts/XGB_Shap_model/\n"
     ]
    },
    {
     "ename": "KeyError",
     "evalue": "'XGB_Shap_.pkl'",
     "output_type": "error",
     "traceback": [
      "\u001b[0;31m---------------------------------------------------------------------------\u001b[0m",
      "\u001b[0;31mKeyError\u001b[0m                                  Traceback (most recent call last)",
      "Cell \u001b[0;32mIn [27], line 2\u001b[0m\n\u001b[1;32m      1\u001b[0m filesDict \u001b[38;5;241m=\u001b[39m Helpers\u001b[38;5;241m.\u001b[39mdownloadArtifacts(context, modelName)\n\u001b[0;32m----> 2\u001b[0m XGB_clf \u001b[38;5;241m=\u001b[39m pickle\u001b[38;5;241m.\u001b[39mload(\u001b[38;5;28mopen\u001b[39m(\u001b[43mfilesDict\u001b[49m\u001b[43m[\u001b[49m\u001b[38;5;124;43m\"\u001b[39;49m\u001b[38;5;124;43mXGB_Shap_.pkl\u001b[39;49m\u001b[38;5;124;43m\"\u001b[39;49m\u001b[43m]\u001b[49m, \u001b[38;5;124m'\u001b[39m\u001b[38;5;124mrb\u001b[39m\u001b[38;5;124m'\u001b[39m))\n",
      "\u001b[0;31mKeyError\u001b[0m: 'XGB_Shap_.pkl'"
     ]
    }
   ],
   "source": [
    "filesDict = Helpers.downloadArtifacts(context, modelName)\n",
    "XGB_clf = pickle.load(open(filesDict[\"XGB_Shap_.pkl\"], 'rb'))"
   ]
  },
  {
   "cell_type": "code",
   "execution_count": 31,
   "id": "968e7dff-c3bf-42e1-9b1e-b5b76e98e60c",
   "metadata": {},
   "outputs": [
    {
     "data": {
      "text/plain": [
       "1587"
      ]
     },
     "execution_count": 31,
     "metadata": {},
     "output_type": "execute_result"
    }
   ],
   "source": [
    "len(df)"
   ]
  },
  {
   "cell_type": "code",
   "execution_count": 18,
   "id": "e68c2bf5-a481-4e23-a23c-740c8340c11b",
   "metadata": {},
   "outputs": [],
   "source": []
  },
  {
   "cell_type": "code",
   "execution_count": null,
   "id": "3f1d2309-00e7-4de5-8175-05f3f1d1db03",
   "metadata": {},
   "outputs": [],
   "source": [
    "df.head()"
   ]
  },
  {
   "cell_type": "code",
   "execution_count": 32,
   "id": "f46935d3-0ef7-4fe3-833d-d0b67abb85b3",
   "metadata": {},
   "outputs": [
    {
     "ename": "NameError",
     "evalue": "name 'XGB_clf' is not defined",
     "output_type": "error",
     "traceback": [
      "\u001b[0;31m---------------------------------------------------------------------------\u001b[0m",
      "\u001b[0;31mNameError\u001b[0m                                 Traceback (most recent call last)",
      "Cell \u001b[0;32mIn [32], line 2\u001b[0m\n\u001b[1;32m      1\u001b[0m df2 \u001b[38;5;241m=\u001b[39m np\u001b[38;5;241m.\u001b[39mexpm1(df)\n\u001b[0;32m----> 2\u001b[0m df2[\u001b[38;5;124m'\u001b[39m\u001b[38;5;124mpredicted\u001b[39m\u001b[38;5;124m'\u001b[39m] \u001b[38;5;241m=\u001b[39m \u001b[43mXGB_clf\u001b[49m\u001b[38;5;241m.\u001b[39mpredict(val)\n",
      "\u001b[0;31mNameError\u001b[0m: name 'XGB_clf' is not defined"
     ]
    }
   ],
   "source": [
    "df2 = np.expm1(df)\n",
    "df2['predicted'] = XGB_clf.predict(val)"
   ]
  },
  {
   "cell_type": "code",
   "execution_count": null,
   "id": "f28ae624-f133-45e2-a08e-c5ed8b49591a",
   "metadata": {},
   "outputs": [],
   "source": []
  },
  {
   "cell_type": "code",
   "execution_count": null,
   "id": "4372569c-b45e-4540-a14a-dd0295120e9b",
   "metadata": {},
   "outputs": [],
   "source": [
    "outputCollection = Helpers.createOutputCollection(context)\n",
    "out = Helpers.createTemplateOutputDataset(context=context, outputName=outputDataset3, dataFrame=df2)\n",
    "\n",
    "# out = Helpers.createTemplateOutputDataset(context=context, outputName=outputDataset3, dataFrame=Xtrain)\n",
    "# out2 = Helpers.createTemplateOutputDataset(context=context, outputName=outputDataset4, dataFrame=X_test_norm)\n",
    "# out3 = Helpers.createTemplateOutputDataset(context=context, outputName=outputDataset5, dataFrame=Y_train)\n",
    "# out4 = Helpers.createTemplateOutputDataset(context=context, outputName=outputDataset6, dataFrame=Y_test)\n",
    "outputCollection.addTemplateOutput(out)\n",
    "# outputCollection.addTemplateOutput(out2)\n",
    "# outputCollection.addTemplateOutput(out3)\n",
    "# outputCollection.addTemplateOutput(out4)\n",
    "Helpers.save(context)"
   ]
  },
  {
   "cell_type": "code",
   "execution_count": null,
   "id": "d3b65cba-5f10-4d11-ac7c-f01a272ce62e",
   "metadata": {},
   "outputs": [],
   "source": []
  },
  {
   "cell_type": "code",
   "execution_count": null,
   "id": "8bb51e4d-aace-4285-ac8b-ca16fa94a9f5",
   "metadata": {},
   "outputs": [],
   "source": []
  },
  {
   "cell_type": "code",
   "execution_count": null,
   "id": "6abb319e-801e-41b3-8c07-88860f92a94d",
   "metadata": {},
   "outputs": [],
   "source": []
  },
  {
   "cell_type": "code",
   "execution_count": null,
   "id": "bcb9931c-c76b-42c1-9f58-e9038b063072",
   "metadata": {},
   "outputs": [],
   "source": []
  },
  {
   "cell_type": "code",
   "execution_count": null,
   "id": "989a5cbd-0e9f-4758-a844-ce1d92898a7f",
   "metadata": {},
   "outputs": [],
   "source": []
  },
  {
   "cell_type": "code",
   "execution_count": null,
   "id": "924f9c59-a149-4f8b-92a1-6c4b8de23e87",
   "metadata": {},
   "outputs": [],
   "source": []
  },
  {
   "cell_type": "code",
   "execution_count": null,
   "id": "830262e4-b13e-4117-9774-9377cafc858a",
   "metadata": {},
   "outputs": [],
   "source": []
  }
 ],
 "metadata": {
  "kernelspec": {
   "display_name": "Python 3 (ipykernel)",
   "language": "python",
   "name": "python3"
  },
  "language_info": {
   "codemirror_mode": {
    "name": "ipython",
    "version": 3
   },
   "file_extension": ".py",
   "mimetype": "text/x-python",
   "name": "python",
   "nbconvert_exporter": "python",
   "pygments_lexer": "ipython3",
   "version": "3.10.8"
  }
 },
 "nbformat": 4,
 "nbformat_minor": 5
}
