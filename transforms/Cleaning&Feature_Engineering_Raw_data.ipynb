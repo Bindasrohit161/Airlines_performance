{
 "cells": [
  {
   "cell_type": "code",
   "execution_count": 10,
   "id": "34e82c2e",
   "metadata": {},
   "outputs": [
    {
     "name": "stdout",
     "output_type": "stream",
     "text": [
      "Collecting matplotlib\n",
      "  Downloading matplotlib-3.6.2-cp310-cp310-manylinux_2_17_x86_64.manylinux2014_x86_64.whl (11.8 MB)\n",
      "\u001b[2K     \u001b[90m━━━━━━━━━━━━━━━━━━━━━━━━━━━━━━━━━━━━━━━━\u001b[0m \u001b[32m11.8/11.8 MB\u001b[0m \u001b[31m25.5 MB/s\u001b[0m eta \u001b[36m0:00:00\u001b[0m00:01\u001b[0m00:01\u001b[0m\n",
      "\u001b[?25hRequirement already satisfied: pyparsing>=2.2.1 in /opt/conda/lib/python3.10/site-packages (from matplotlib) (3.0.9)\n",
      "Collecting cycler>=0.10\n",
      "  Downloading cycler-0.11.0-py3-none-any.whl (6.4 kB)\n",
      "Collecting kiwisolver>=1.0.1\n",
      "  Downloading kiwisolver-1.4.4-cp310-cp310-manylinux_2_12_x86_64.manylinux2010_x86_64.whl (1.6 MB)\n",
      "\u001b[2K     \u001b[90m━━━━━━━━━━━━━━━━━━━━━━━━━━━━━━━━━━━━━━━━\u001b[0m \u001b[32m1.6/1.6 MB\u001b[0m \u001b[31m32.8 MB/s\u001b[0m eta \u001b[36m0:00:00\u001b[0ma \u001b[36m0:00:01\u001b[0m\n",
      "\u001b[?25hRequirement already satisfied: python-dateutil>=2.7 in /opt/conda/lib/python3.10/site-packages (from matplotlib) (2.8.2)\n",
      "Collecting contourpy>=1.0.1\n",
      "  Downloading contourpy-1.0.6-cp310-cp310-manylinux_2_17_x86_64.manylinux2014_x86_64.whl (296 kB)\n",
      "\u001b[2K     \u001b[90m━━━━━━━━━━━━━━━━━━━━━━━━━━━━━━━━━━━━━━\u001b[0m \u001b[32m296.1/296.1 kB\u001b[0m \u001b[31m37.0 MB/s\u001b[0m eta \u001b[36m0:00:00\u001b[0m\n",
      "\u001b[?25hCollecting pillow>=6.2.0\n",
      "  Downloading Pillow-9.3.0-cp310-cp310-manylinux_2_28_x86_64.whl (3.3 MB)\n",
      "\u001b[2K     \u001b[90m━━━━━━━━━━━━━━━━━━━━━━━━━━━━━━━━━━━━━━━━\u001b[0m \u001b[32m3.3/3.3 MB\u001b[0m \u001b[31m54.3 MB/s\u001b[0m eta \u001b[36m0:00:00\u001b[0ma \u001b[36m0:00:01\u001b[0m\n",
      "\u001b[?25hRequirement already satisfied: packaging>=20.0 in /opt/conda/lib/python3.10/site-packages (from matplotlib) (21.3)\n",
      "Requirement already satisfied: numpy>=1.19 in /opt/conda/lib/python3.10/site-packages (from matplotlib) (1.23.5)\n",
      "Collecting fonttools>=4.22.0\n",
      "  Downloading fonttools-4.38.0-py3-none-any.whl (965 kB)\n",
      "\u001b[2K     \u001b[90m━━━━━━━━━━━━━━━━━━━━━━━━━━━━━━━━━━━━━━\u001b[0m \u001b[32m965.4/965.4 kB\u001b[0m \u001b[31m48.4 MB/s\u001b[0m eta \u001b[36m0:00:00\u001b[0m\n",
      "\u001b[?25hRequirement already satisfied: six>=1.5 in /opt/conda/lib/python3.10/site-packages (from python-dateutil>=2.7->matplotlib) (1.16.0)\n",
      "Installing collected packages: pillow, kiwisolver, fonttools, cycler, contourpy, matplotlib\n",
      "Successfully installed contourpy-1.0.6 cycler-0.11.0 fonttools-4.38.0 kiwisolver-1.4.4 matplotlib-3.6.2 pillow-9.3.0\n"
     ]
    },
    {
     "name": "stderr",
     "output_type": "stream",
     "text": [
      "WARNING:Matplotlib is building the font cache; this may take a moment.\n",
      "INFO:generated new fontManager\n"
     ]
    },
    {
     "name": "stdout",
     "output_type": "stream",
     "text": [
      "Requirement already satisfied: networkx in /opt/conda/lib/python3.10/site-packages (2.8.8)\n"
     ]
    }
   ],
   "source": [
    "import sys\n",
    "# sys.path.append('/Users/bernardoloureiro/template-lib')\n",
    "\n",
    "from utils.notebookhelpers.helpers import Helpers\n",
    "from utils.dtos.templateOutputCollection import TemplateOutputCollection\n",
    "from utils.dtos.variable import Metadata\n",
    "from utils.dtos.templateOutput import TemplateOutput\n",
    "from utils.dtos.templateOutput import OutputType\n",
    "from utils.dtos.templateOutput import ChartType\n",
    "import logging\n",
    "import os\n",
    "from dateutil import parser\n",
    "logging.basicConfig(format='%(levelname)s:%(message)s', level=logging.INFO)\n",
    "# pd.set_option('display.max_rows', 5000)\n",
    "# pd.set_option('display.max_columns', 5000)\n",
    "# pd.set_option('display.width', 1000)\n",
    "# !pip install matplotlib\n",
    "import matplotlib.pyplot as plt\n",
    "# import seaborn as sns\n",
    "# !pip install networkx\n",
    "# %matplotlib inline\n",
    "import pandas as pd\n",
    "import copy\n",
    "import numpy as np\n",
    "import networkx as nx\n",
    "# !pip install scipy\n",
    "# from scipy import stats\n",
    "# from sklearn.preprocessing import StandardScaler\n",
    "# from sklearn.model_selection import train_test_split\n"
   ]
  },
  {
   "cell_type": "code",
   "execution_count": 11,
   "id": "fb35df1c",
   "metadata": {},
   "outputs": [],
   "source": [
    "#Getting the context\n",
    "contextId = 'Airline_performance'\n",
    "context = Helpers.getOrCreateContext(contextId=contextId, localVars=locals())\n",
    "\n",
    "\n",
    "inputDatasetParameter = Helpers.get_or_create_input_dataset(\n",
    "    name=\"inputDataset\",\n",
    "    metadata=Metadata(input_name='Input Dataset', is_required=True, tooltip='Dataset to apply the transformation'),\n",
    "    local_context=locals())\n",
    "# inputDataset = Helpers.get_or_create_input_var(\n",
    "#     name=\"inputDataset\",\n",
    "#     metadata=Metadata(input_name=\"Cleaned Dataset\", is_required=True, default_value=\"incol\", tooltip=\"Column to add\"),\n",
    "#     local_context=locals()\n",
    "# )\n",
    "Airline_Parameter = Helpers.get_or_create_input_var(name=\"Airline\",\n",
    "    metadata=Metadata(input_name=\"Airline\", is_required=True, tooltip=\"All Airline names\", multiple=False, datatypes=['STRING'],options=['FIELDS', 'CONSTANT'], datasets=['inputDataset']),\n",
    "    local_context=locals()\n",
    "    )\n",
    "\n",
    "Departures_On_Time_Parameter = Helpers.get_or_create_input_var(\n",
    "    name=\"Departures_On_Time\",\n",
    "    metadata=Metadata(input_name=\"Departures_On_Time\", is_required=True, tooltip=\"All Departures_On_Time\", multiple=False,datatypes=['STRING'] ,options=['FIELDS', 'CONSTANT'], datasets=['inputDataset']),\n",
    "    local_context=locals()\n",
    ")\n",
    "\n",
    "\n",
    "Departures_Delayed_Parameter = Helpers.get_or_create_input_var(\n",
    "    name=\"Departures_Delayed\",\n",
    "    metadata=Metadata(input_name=\"Departures_Delayed\", is_required=True, tooltip=\"All Departures_On_Time\", multiple=False, datatypes=['STRING'],options=['FIELDS', 'CONSTANT'], datasets=['inputDataset']),\n",
    "    local_context=locals()\n",
    ")\n",
    "\n",
    "Sectors_Scheduled_Parameter = Helpers.get_or_create_input_var(\n",
    "    name=\"Sectors_Scheduled\",\n",
    "    metadata=Metadata(input_name=\"Sectors_Scheduled\", is_required=True, tooltip=\"All Departures_On_Time\", multiple=False, datatypes=['STRING'],options=['FIELDS', 'CONSTANT'], datasets=['inputDataset']),\n",
    "    local_context=locals()\n",
    ")\n",
    "\n",
    "\n",
    "\n",
    "Sectors_Flown_Parameter = Helpers.get_or_create_input_var(\n",
    "    name=\"Sectors_Flown\",\n",
    "    metadata=Metadata(input_name=\"Sectors_Flown\", is_required=True, tooltip=\"All Departures_On_Time\", multiple=False, datatypes=['STRING'],options=['FIELDS', 'CONSTANT'], datasets=['inputDataset']),\n",
    "    local_context=locals()\n",
    ")\n",
    "\n",
    "# Airline_Parameter = Helpers.get_or_create_input_var(\n",
    "#     name=\"Airline\",\n",
    "#     metadata=Metadata(input_name=\"Sectors_Flown\", is_required=True, tooltip=\"All Departures_On_Time\", multiple=False, datatypes=['STRING'],options=['FIELDS', 'CONSTANT'], datasets=['inputDataset']),\n",
    "#     local_context=locals()\n",
    "# )\n",
    "\n",
    "\n",
    "\n",
    "Cancellations_Parameter = Helpers.get_or_create_input_var(\n",
    "    name=\"Cancellations\",\n",
    "    metadata=Metadata(input_name=\"Cancellations\", is_required=True, tooltip=\"All Departures_On_Time\", multiple=False, options=['FIELDS', 'CONSTANT'], datasets=['inputDataset']),\n",
    "    local_context=locals()\n",
    ")\n",
    "\n",
    "\n",
    "Arrivals_Delayed_Parameter = Helpers.get_or_create_input_var(\n",
    "    name=\"Arrivals_Delayed\",\n",
    "    metadata=Metadata(input_name=\"Arrivals_Delayed\", is_required=True, tooltip=\"All Departures_On_Time\", multiple=False, options=['FIELDS', 'CONSTANT'], datasets=['inputDataset']),\n",
    "    local_context=locals()\n",
    ")\n",
    "\n",
    "\n",
    "Departing_Port_Parameter = Helpers.get_or_create_input_var(\n",
    "    name=\"Departing_Port\",\n",
    "    metadata=Metadata(input_name=\"Departing_Port\", is_required=True, tooltip=\"All Departures_On_Time\", multiple=False, options=['FIELDS', 'CONSTANT'], datasets=['inputDataset']),\n",
    "    local_context=locals()\n",
    ")\n",
    "\n",
    "# useless_Parameter = Helpers.get_or_create_input_var(\n",
    "#     name=\"useless\",\n",
    "#     metadata=Metadata(input_name=\"Departing_Port\", is_required=True, tooltip=\"All Departures_On_Time\", multiple=False, options=['FIELDS', 'CONSTANT'], datasets=['inputDataset']),\n",
    "#     local_context=locals()\n",
    "# )\n",
    "\n",
    "\n",
    "\n",
    "Arriving_Port_Parameter = Helpers.get_or_create_input_var(\n",
    "    name=\"Arriving_Port\",\n",
    "    metadata=Metadata(input_name=\"Arriving_Port\", is_required=True, tooltip=\"All Departures_On_Time\", multiple=False, options=['FIELDS', 'CONSTANT'], datasets=['inputDataset']),\n",
    "    local_context=locals()\n",
    ")\n",
    "\n",
    "Year_Parameter = Helpers.get_or_create_input_var(\n",
    "    name=\"Year\",\n",
    "    metadata=Metadata(input_name=\"Year\", is_required=True, tooltip=\"All Departures_On_Time\", multiple=False, options=['FIELDS', 'CONSTANT'], datasets=['inputDataset']),\n",
    "    local_context=locals()\n",
    ")\n",
    "\n",
    "Month_Num_Parameter = Helpers.get_or_create_input_var(\n",
    "    name=\"Month_Num\",\n",
    "    metadata=Metadata(input_name=\"Month_Num\", is_required=True, tooltip=\"All Departures_On_Time\", multiple=False, options=['FIELDS', 'CONSTANT'], datasets=['inputDataset']),\n",
    "    local_context=locals()\n",
    ")\n",
    "\n",
    "\n",
    "Total_scheduled_outputcolumnParameter = Helpers.get_or_create_input_var(\n",
    "    name=\"Total_scheduled\",\n",
    "    metadata=Metadata(input_name=\"Total_scheduled\", is_required=True, multiple=False, tooltip=\"Output column\", \n",
    "),\n",
    "    local_context=locals()\n",
    ")\n",
    "\n",
    "\n",
    "Total_departed_outputcolumnParameter = Helpers.get_or_create_input_var(\n",
    "    name=\"Total_departed\",\n",
    "    metadata=Metadata(input_name=\"Total_departed\", is_required=True, tooltip=\"Output column\", multiple=False,\n",
    "),\n",
    "    local_context=locals()\n",
    ")\n",
    "\n",
    "\n",
    "Cancelled_perc_outputcolumnParameter = Helpers.get_or_create_input_var(\n",
    "    name=\"Cancelled_perc\",\n",
    "    metadata=Metadata(input_name=\"Cancelled_perc\", is_required=True, tooltip=\"Output column\", multiple=False,\n",
    "),\n",
    "    local_context=locals()\n",
    ")\n",
    "\n",
    "\n",
    "departure_delay_perc_outputcolumnParameter = Helpers.get_or_create_input_var(\n",
    "    name=\"departure_delay_perc\",\n",
    "    metadata=Metadata(input_name=\"departure_delay_perc\", is_required=True, tooltip=\"Output column\", multiple=False, \n",
    "),\n",
    "    local_context=locals()\n",
    ")\n",
    "\n",
    "\n",
    "arrival_delay_perc_outputcolumnParameter = Helpers.get_or_create_input_var(\n",
    "    name=\"arrival_delay_perc\",\n",
    "    metadata=Metadata(input_name=\"arrival_delay_perc\", is_required=True, tooltip=\"Output column\", multiple=False,\n",
    "),\n",
    "    local_context=locals()\n",
    ")\n",
    "\n",
    "\n",
    "Dep_Arr_delay_outputcolumnParameter = Helpers.get_or_create_input_var(\n",
    "    name=\"Dep_Arr_delay\",\n",
    "    metadata=Metadata(input_name=\"Dep_Arr_delay\", is_required=True, tooltip=\"Output column\", multiple=False,\n",
    "),\n",
    "    local_context=locals()\n",
    ")\n",
    "\n",
    "\n",
    "\n",
    "Btwness_outputcolumnParameter = Helpers.get_or_create_input_var(\n",
    "    name=\"Btwness\",\n",
    "    metadata=Metadata(input_name=\"Btwness\", is_required=True, tooltip=\"Output column\", multiple=False,\n",
    "),\n",
    "    local_context=locals()\n",
    ")\n",
    "\n",
    "\n",
    "closeness_outputcolumnParameter = Helpers.get_or_create_input_var(\n",
    "    name=\"closeness\",\n",
    "    metadata=Metadata(input_name=\"closeness\", is_required=True, tooltip=\"Output column\", multiple=False, \n",
    "),\n",
    "    local_context=locals()\n",
    ") \n",
    "\n",
    "\n",
    "Deg_centrality_outputcolumnParameter = Helpers.get_or_create_input_var(\n",
    "    name=\"Deg_centrality\",\n",
    "    metadata=Metadata(input_name=\"Deg_centrality\", is_required=True, tooltip=\"Output column\", multiple=False, \n",
    "),\n",
    "    local_context=locals()\n",
    ") \n",
    "\n",
    "\n",
    "\n",
    "\n",
    "\n",
    "outputDataset_Parameter =Helpers.get_or_create_output_dataset(\n",
    " name=\"outputDataset\",\n",
    "    metadata=Metadata(input_name='outputDataset', is_required=True, tooltip='Dataset name to be created after the transformation'),\n",
    "    local_context=locals()\n",
    ")\n",
    "    \n",
    "\n",
    "# Airline_route_Parameter=Helpers.get_or_create_output_chart(\n",
    "#  name=\"Airline_rout_chart\",\n",
    "#     metadata=Metadata(input_name='Airline_rout_chart', is_required=True, tooltip='Name of the chart to be created'),\n",
    "#     local_context=locals()\n",
    "# )\n"
   ]
  },
  {
   "cell_type": "code",
   "execution_count": 12,
   "id": "c56075e0",
   "metadata": {},
   "outputs": [],
   "source": [
    "#Getting the parameters\n",
    "airline=inputDatasetParameter.value\n",
    "\n",
    "outputDataset=outputDataset_Parameter.value\n",
    "\n",
    "Airline = Airline_Parameter.value\n",
    "\n",
    "Departures_On_Time =Departures_On_Time_Parameter.value\n",
    "Departures_Delayed =    Departures_Delayed_Parameter.value\n",
    "Sectors_Scheduled=    Sectors_Scheduled_Parameter.value\n",
    "Sectors_Flown=    Sectors_Flown_Parameter.value\n",
    "Cancellations=    Cancellations_Parameter.value\n",
    "Month_Num = Month_Num_Parameter.value\n",
    "Year = Year_Parameter.value\n",
    "Arrivals_Delayed = Arrivals_Delayed_Parameter.value\n",
    "Departing_Port=Departing_Port_Parameter.value\n",
    "Arriving_Port=Arriving_Port_Parameter.value\n",
    "# useless =useless_Parameter.value()\n",
    "Total_scheduled=Total_scheduled_outputcolumnParameter.value\n",
    "Total_departed= Total_departed_outputcolumnParameter.value\n",
    "Cancelled_perc = Cancelled_perc_outputcolumnParameter.value\n",
    "departure_delay_perc= departure_delay_perc_outputcolumnParameter.value\n",
    "arrival_delay_perc = arrival_delay_perc_outputcolumnParameter.value\n",
    "Dep_Arr_delay = Dep_Arr_delay_outputcolumnParameter.value\n",
    "Btwness = Btwness_outputcolumnParameter.value\n",
    "closeness = closeness_outputcolumnParameter.value\n",
    "Deg_centrality = Deg_centrality_outputcolumnParameter.value\n",
    "\n",
    "\n",
    "# Airline_rout_chart = Airline_route_Parameter.value\n",
    "\n",
    "\n",
    "\n",
    "\n",
    "\n",
    "\n",
    "# outputDataset2=outputDatasetParameter2.value"
   ]
  },
  {
   "cell_type": "code",
   "execution_count": 13,
   "id": "023bb5d0",
   "metadata": {},
   "outputs": [
    {
     "data": {
      "text/plain": [
       "'airline'"
      ]
     },
     "execution_count": 13,
     "metadata": {},
     "output_type": "execute_result"
    }
   ],
   "source": [
    "airline"
   ]
  },
  {
   "cell_type": "code",
   "execution_count": 14,
   "id": "ec4fea5f",
   "metadata": {
    "scrolled": true
   },
   "outputs": [],
   "source": [
    "All_airline = Helpers.getEntityData(context, airline)"
   ]
  },
  {
   "cell_type": "code",
   "execution_count": null,
   "id": "a345e95e-123f-426b-8189-fb0af8d8c80c",
   "metadata": {},
   "outputs": [],
   "source": [
    "def clean(All_airline):\n",
    "    try:\n",
    "        All_airline[Airline] = All_airline[Airline].str.replace('Macair', 'MacAir').replace('Virgin Australia - ATR/F100 Operations', \n",
    "                                                                                                'Virgin Australia Regional Airlines')\n",
    "        # All_airline =  All_airline_grp.drop('MacAir',axis = 1)\n",
    "        # print('done')\n",
    "    except:\n",
    "        pass\n",
    "    return All_airline"
   ]
  },
  {
   "cell_type": "code",
   "execution_count": 5,
   "id": "14cf27a3-5faa-4ade-be9a-6753bdb2bbb5",
   "metadata": {},
   "outputs": [],
   "source": [
    "def feature_engineering(All_airline):\n",
    "    All_airline = All_airline.rename({Sectors_Scheduled: Total_scheduled, Sectors_Flown: Total_departed}, axis=1) \n",
    "\n",
    "    All_airline[Cancelled_perc] = (All_airline[Cancellations]/All_airline[Total_scheduled])*100\n",
    "\n",
    "    All_airline[departure_delay_perc] = round((All_airline[Departures_Delayed]/All_airline[Total_departed])*100)\n",
    "\n",
    "    All_airline[arrival_delay_perc] = round((All_airline[Arrivals_Delayed]/All_airline[Total_departed])*100)\n",
    "    All_airline[Dep_Arr_delay] = round(((All_airline[Departures_Delayed]- All_airline[Arrivals_Delayed])/All_airline[Total_departed])*100)\n",
    "\n",
    "\n",
    "    routs = All_airline.groupby([Departing_Port,Arriving_Port]).size().reset_index(name='count')\n",
    "    #creating  betweenness centrality\n",
    "    g = nx.from_pandas_edgelist(routs, source=Departing_Port, target=Arriving_Port)\n",
    "    g_Btwness = pd.DataFrame(pd.DataFrame([nx.betweenness_centrality(g)]).unstack())\n",
    "    g_Btwness = g_Btwness.reset_index().rename(columns = { 'level_0': Departing_Port, 'level_1':'useless',\n",
    "                                                      0:Btwness}).drop('useless',axis=1)\n",
    "    All_airline = g_Btwness.merge(All_airline,on=Departing_Port,how='inner')\n",
    "\n",
    "\n",
    "    #creating   closeness centrality\n",
    "    g = nx.from_pandas_edgelist(routs, source=Departing_Port, target=Arriving_Port)\n",
    "    g_closeness = pd.DataFrame(pd.DataFrame([nx.closeness_centrality(g)]).unstack())\n",
    "    g_closeness = g_closeness.reset_index().rename(columns = { 'level_0': Departing_Port, 'level_1':'useless',\n",
    "                                                      0:closeness}).drop('useless',axis=1)\n",
    "    All_airline = g_closeness.merge(All_airline,on=Departing_Port,how='inner')\n",
    "\n",
    "\n",
    "\n",
    "    #creating   degree centrality\n",
    "    g = nx.from_pandas_edgelist(routs, source=Departing_Port, target=Arriving_Port)\n",
    "    g_Deg_centrality = pd.DataFrame(pd.DataFrame([nx.degree_centrality(g)]).unstack())\n",
    "    g_Deg_centrality = g_Deg_centrality.reset_index().rename(columns = { 'level_0': Departing_Port, 'level_1':'useless',\n",
    "                                                      0:'Deg_centrality'}).drop('useless',axis=1)\n",
    "    All_airline = g_Deg_centrality.merge(All_airline,on=Departing_Port,how='inner')\n",
    "#     All_airline = All_airline[All_airline['Total_departed'] > 0]\n",
    "    return All_airline"
   ]
  },
  {
   "cell_type": "code",
   "execution_count": 19,
   "id": "0e7489ce-c3c9-4912-91b2-5aafbaf23190",
   "metadata": {},
   "outputs": [],
   "source": [
    "data = All_airline.groupby([Departing_Port,Arriving_Port]).size().reset_index(name='count')"
   ]
  },
  {
   "cell_type": "markdown",
   "id": "f9c5ba91-0c5a-499c-94d1-9b1c7b7337a2",
   "metadata": {},
   "source": [
    "def draw_graph(data,source=Departing_Port, target=Arriving_Port):\n",
    "\n",
    "    fig = plt.figure(figsize=(30, 50))\n",
    "    # 1.Create the graph\n",
    "    g = nx.from_pandas_edgelist(data, source=Departing_Port, target=Arriving_Port)\n",
    "    # 2.Create a layout for our nodes\n",
    "\n",
    "    layout = nx.spring_layout(g, iterations=50)\n",
    "    # 3.Styling\n",
    "\n",
    "    nx.draw_networkx_edges(g, layout, edge_color='#AAAAAA')\n",
    "    dest = [node for node in g.nodes() if node in data.Arriving_Port.unique()]\n",
    "\n",
    "    size = [g.degree(node) * 80 for node in g.nodes() if node in data.Arriving_Port.unique()]\n",
    "\n",
    "    nx.draw_networkx_nodes(g, layout, nodelist=dest, node_size=size, node_color='lightblue')\n",
    "\n",
    "    orig = [node for node in g.nodes() if node in data.Departing_Port.unique()]\n",
    "\n",
    "    nx.draw_networkx_nodes(g, layout, nodelist=orig, node_size=100, node_color='#AAAAAA')\n",
    "\n",
    "    high_degree_orig = [node for node in g.nodes() if node in data.Departing_Port.unique() and g.degree(node) > 1]\n",
    "\n",
    "    nx.draw_networkx_nodes(g, layout, nodelist=high_degree_orig, node_size=100, node_color='#fc8d62')\n",
    "\n",
    "    orig_dict = dict(zip(orig, orig))\n",
    "    nx.draw_networkx_labels(g, layout, labels=orig_dict)\n",
    "    # 4.Plot the graph\n",
    "    plt.axis('off')\n",
    "\n",
    "    plt.title(\"Connections between Airports\")\n",
    "    plt.show()\n",
    "    return chart"
   ]
  },
  {
   "cell_type": "markdown",
   "id": "d1133954-953e-45c9-9e9e-3c694185fed9",
   "metadata": {},
   "source": [
    "fig = draw_graph(routs)"
   ]
  },
  {
   "cell_type": "markdown",
   "id": "76316a02-50ac-4576-bd28-c2f06a21a098",
   "metadata": {},
   "source": [
    "imgChart = Helpers.createTemplateOutputPlotlibChart(context, \n",
    "                                                    chartTitle='Airline Routs Graph Analysis',\n",
    "                                                    plt=fig)"
   ]
  },
  {
   "cell_type": "code",
   "execution_count": null,
   "id": "0f6183f3-4852-44e3-bb96-38f205de8fe0",
   "metadata": {},
   "outputs": [],
   "source": []
  },
  {
   "cell_type": "code",
   "execution_count": 6,
   "id": "e00d87bb",
   "metadata": {
    "tags": []
   },
   "outputs": [
    {
     "ename": "NameError",
     "evalue": "name 'All_airline' is not defined",
     "output_type": "error",
     "traceback": [
      "\u001b[1;31m---------------------------------------------------------------------------\u001b[0m",
      "\u001b[1;31mNameError\u001b[0m                                 Traceback (most recent call last)",
      "Input \u001b[1;32mIn [6]\u001b[0m, in \u001b[0;36m<cell line: 1>\u001b[1;34m()\u001b[0m\n\u001b[1;32m----> 1\u001b[0m All_airline \u001b[38;5;241m=\u001b[39m feature_engineering(\u001b[43mAll_airline\u001b[49m)\n\u001b[0;32m      2\u001b[0m All_airline \u001b[38;5;241m=\u001b[39m clean(All_airline)\n",
      "\u001b[1;31mNameError\u001b[0m: name 'All_airline' is not defined"
     ]
    }
   ],
   "source": [
    "All_airline = feature_engineering(All_airline)\n",
    "All_airline = clean(All_airline)\n",
    "# All_airline = All_airline.reset_index()\n",
    "\n",
    "# All_airline = graph(All_airline)\n"
   ]
  },
  {
   "cell_type": "markdown",
   "id": "f94f5381-96cc-4b74-92d8-cf9ef524a7a9",
   "metadata": {},
   "source": [
    "def findlog(x):\n",
    "    if x > 0:\n",
    "#         print(x)\n",
    "        log = np.log(x)\n",
    "        \n",
    "    elif x < 0:\n",
    "        log = np.log(x*(-1))*-1\n",
    "    else:\n",
    "        log = 0\n",
    "    return log"
   ]
  },
  {
   "cell_type": "code",
   "execution_count": 217,
   "id": "963c71e9-5976-4827-bc8c-adb94837c801",
   "metadata": {},
   "outputs": [],
   "source": [
    "All_airline_grp = All_airline.groupby([Airline,Year,Month_Num]).agg({Deg_centrality:'mean',closeness:'mean',Btwness:'mean',\n",
    "                                                 Cancelled_perc:'mean',departure_delay_perc:'mean',\n",
    "                                                  arrival_delay_perc:'mean',Total_scheduled:'sum',Total_departed:'sum',\n",
    "                                                     Cancellations:'sum',Departures_On_Time:'sum',Arrivals_Delayed:'sum',\n",
    "                                                 Dep_Arr_delay:'sum'})"
   ]
  },
  {
   "cell_type": "code",
   "execution_count": 218,
   "id": "63e0d5f6",
   "metadata": {},
   "outputs": [],
   "source": [
    "cust_log= All_airline_grp.copy()"
   ]
  },
  {
   "cell_type": "markdown",
   "id": "31280f5e-86c4-4cb4-b16a-b48008075680",
   "metadata": {},
   "source": [
    "for n,i in enumerate(cust_log):\n",
    "    cust_log[i] = cust_log[i].apply(findlog)\n",
    "    "
   ]
  },
  {
   "cell_type": "code",
   "execution_count": null,
   "id": "a5a1257c-8add-4b82-b3af-0e3a98c09d79",
   "metadata": {},
   "outputs": [],
   "source": [
    "cust_log = cust_log.apply(np.log1p)\n",
    "cust_log.replace((np.inf, -np.inf, np.nan), 0,inplace=True)"
   ]
  },
  {
   "cell_type": "code",
   "execution_count": 21,
   "id": "4cfb0612-fa0a-4827-8958-8c81edc88897",
   "metadata": {},
   "outputs": [
    {
     "ename": "NameError",
     "evalue": "name 'cust_log' is not defined",
     "output_type": "error",
     "traceback": [
      "\u001b[1;31m---------------------------------------------------------------------------\u001b[0m",
      "\u001b[1;31mNameError\u001b[0m                                 Traceback (most recent call last)",
      "Input \u001b[1;32mIn [21]\u001b[0m, in \u001b[0;36m<cell line: 1>\u001b[1;34m()\u001b[0m\n\u001b[1;32m----> 1\u001b[0m \u001b[38;5;28mlen\u001b[39m(\u001b[43mcust_log\u001b[49m)\n",
      "\u001b[1;31mNameError\u001b[0m: name 'cust_log' is not defined"
     ]
    }
   ],
   "source": [
    "cust_log = cust_log.reset_index(drop=True)"
   ]
  },
  {
   "cell_type": "markdown",
   "id": "f07ae433-a316-4943-b687-c4cc9839190a",
   "metadata": {},
   "source": [
    "# transform into a dataframe\n",
    "# scale the data\n",
    "scaler = StandardScaler()\n",
    "cust_scaled = scaler.fit_transform(cust_log)\n",
    "cust_scaled = pd.DataFrame(cust_scaled, index = cust_log.index, columns = cust_log.columns)\n",
    "cust_scaled = cust_scaled.replace((np.inf, -np.inf, np.nan), 0)\n"
   ]
  },
  {
   "cell_type": "markdown",
   "id": "71a1442d-8e03-44ab-9308-ce82a9701c01",
   "metadata": {},
   "source": [
    "cust_scaled = cust_scaled.reset_index(drop=True)"
   ]
  },
  {
   "cell_type": "code",
   "execution_count": null,
   "id": "a59341ad",
   "metadata": {},
   "outputs": [],
   "source": [
    "outputCollection = Helpers.createOutputCollection(context)\n",
    "# out = Helpers.createTemplateOutputDataset(context=context, outputName=outputDataset, dataFrame=All_airline)\n",
    "out = Helpers.createTemplateOutputDataset(context=context, outputName=outputDataset, dataFrame=cust_log)\n",
    "# imgChart = Helpers.createTemplateOutputPlotlyChart(context, Airline_rout_chart, fig)\n",
    "# out2 = Helpers.createTemplateOutputDataset(context=context, outputName=outputDataset, dataFrame=All_airline)\n",
    "\n",
    "outputCollection.addTemplateOutput(out)\n",
    "# outputCollection.addTemplateOutput(imgChart)\n",
    "Helpers.save(context)"
   ]
  },
  {
   "cell_type": "code",
   "execution_count": null,
   "id": "46f60e35",
   "metadata": {},
   "outputs": [],
   "source": []
  },
  {
   "cell_type": "code",
   "execution_count": null,
   "id": "6aa35e06",
   "metadata": {},
   "outputs": [],
   "source": []
  },
  {
   "cell_type": "code",
   "execution_count": null,
   "id": "09d3da2e",
   "metadata": {},
   "outputs": [],
   "source": []
  },
  {
   "cell_type": "code",
   "execution_count": null,
   "id": "558d3b04",
   "metadata": {},
   "outputs": [],
   "source": []
  },
  {
   "cell_type": "code",
   "execution_count": null,
   "id": "a9bcc294",
   "metadata": {},
   "outputs": [],
   "source": []
  }
 ],
 "metadata": {
  "kernelspec": {
   "display_name": "Python 3 (ipykernel)",
   "language": "python",
   "name": "python3"
  },
  "language_info": {
   "codemirror_mode": {
    "name": "ipython",
    "version": 3
   },
   "file_extension": ".py",
   "mimetype": "text/x-python",
   "name": "python",
   "nbconvert_exporter": "python",
   "pygments_lexer": "ipython3",
   "version": "3.10.8"
  }
 },
 "nbformat": 4,
 "nbformat_minor": 5
}
